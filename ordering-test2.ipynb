{
 "cells": [
  {
   "cell_type": "markdown",
   "id": "0eb84a29-8fba-4652-9f44-f1fe2c3e2218",
   "metadata": {},
   "source": [
    "# Import the data\n",
    "\n",
    "Right now doing some 'cleaning' to help with the join scores, but eventually I think I'll just have a better join score..."
   ]
  },
  {
   "cell_type": "code",
   "execution_count": 3,
   "id": "38de4659-5b0c-4cab-add2-60384d96f277",
   "metadata": {},
   "outputs": [
    {
     "data": {
      "text/plain": [
       "('i visualize two paths my life might take one where i have child and one where i do not i try to place them on equal footing imagining each as something i truly want though i know both will be filled with disappointment and loss',\n",
       " 'to push away disappointment i prepare for “worst” i say all time to s when we discuss what our life might look like in future “though maybe i’m infertile” it’s not exactly superstition i just don’t want to be surprised by my sadness i want to see it plain')"
      ]
     },
     "execution_count": 3,
     "metadata": {},
     "output_type": "execute_result"
    }
   ],
   "source": [
    "import string\n",
    "\n",
    "def simple_tokenize(s):\n",
    "    \"\"\"where s is a string of text, raw poem\"\"\"\n",
    "    s = s.lower()\n",
    "    s = s.translate(str.maketrans('', '', string.punctuation))\n",
    "    return s.split(\" \")\n",
    "\n",
    "stopwords = [\"i\", \"me\", \"my\", \"myself\", \"we\", \"our\", \"ours\", \"ourselves\", \"you\", \"your\", \"yours\", \"yourself\", \"yourselves\", \"he\", \"him\", \"his\", \"himself\", \"she\", \"her\", \"hers\", \"herself\", \"it\", \"its\", \"itself\", \"they\", \"them\", \"their\", \"theirs\", \"themselves\", \"what\", \"which\", \"who\", \"whom\", \"this\", \"that\", \"these\", \"those\", \"am\", \"is\", \"are\", \"was\", \"were\", \"be\", \"been\", \"being\", \"have\", \"has\", \"had\", \"having\", \"do\", \"does\", \"did\", \"doing\", \"a\", \"an\", \"the\", \"and\", \"but\", \"if\", \"or\", \"because\", \"as\", \"until\", \"while\", \"of\", \"at\", \"by\", \"for\", \"with\", \"about\", \"against\", \"between\", \"into\", \"through\", \"during\", \"before\", \"after\", \"above\", \"below\", \"to\", \"from\", \"up\", \"down\", \"in\", \"out\", \"on\", \"off\", \"over\", \"under\", \"again\", \"further\", \"then\", \"once\", \"here\", \"there\", \"when\", \"where\", \"why\", \"how\", \"all\", \"any\", \"both\", \"each\", \"few\", \"more\", \"most\", \"other\", \"some\", \"such\", \"no\", \"nor\", \"not\", \"only\", \"own\", \"same\", \"so\", \"than\", \"too\", \"very\", \"s\", \"t\", \"can\", \"will\", \"just\", \"don\", \"should\", \"now\"]\n",
    "stopwords = [\"the\", \"a\", \"an\"]\n",
    "\n",
    "def remove_stop_words(w):\n",
    "    \"\"\"where w is a list of lowercase words w no punctuation\"\"\"\n",
    "    a = []\n",
    "    for word in w:\n",
    "        if word not in stopwords:\n",
    "            a.append(word)\n",
    "    return a\n",
    "\n",
    "raw_data = []\n",
    "data = []\n",
    "with open(\"part_a.txt\", \"r\") as fle:\n",
    "    for line in fle:\n",
    "        if line[0] == \"[\":\n",
    "            text = line.split(\"]\")[1]\n",
    "            raw_data.append(text)\n",
    "            w = simple_tokenize(text.strip())\n",
    "            data.append(remove_stop_words(w))\n",
    "\n",
    "(' ').join(data[0]), (' ').join(data[1])"
   ]
  },
  {
   "cell_type": "markdown",
   "id": "eb4af072-235d-46bc-8f0f-aaa01d2bd9f4",
   "metadata": {},
   "source": [
    "# Calculate transition scores\n",
    "\n",
    "i.e. How well one poem flows into another. This will be improved!"
   ]
  },
  {
   "cell_type": "code",
   "execution_count": 4,
   "id": "00bbc3e8-57cd-49d0-8286-c9d29003b5be",
   "metadata": {},
   "outputs": [
    {
     "data": {
      "text/plain": [
       "(8, 8)"
      ]
     },
     "execution_count": 4,
     "metadata": {},
     "output_type": "execute_result"
    }
   ],
   "source": [
    "def join_score(a, b, n=10):\n",
    "    \"\"\"where a and b are lists of lowercase words, and n is num of words to consider\"\"\"\n",
    "    a_set = set(a[-n:])\n",
    "    b_set = set(b[:n])\n",
    "    return n - len(a_set.intersection(b_set))\n",
    "\n",
    "test = (\"one way here dog why\".split(\" \"), \"one dog ready set go\".split(\" \"))\n",
    "\n",
    "join_score(data[0], data[1]), join_score(test[0], test[1])    "
   ]
  },
  {
   "cell_type": "code",
   "execution_count": 5,
   "id": "2f92a152-8bee-456f-bec6-4649aec03a77",
   "metadata": {},
   "outputs": [],
   "source": [
    "import numpy as np\n",
    "\n",
    "def calc_all_scores(data, join_score_func):\n",
    "    scores = np.empty([len(data), len(data)])\n",
    "    for i in range(len(data)):\n",
    "        for j in range(len(data)):\n",
    "            if i == j:\n",
    "                s = np.nan\n",
    "            else:\n",
    "                s = join_score_func(data[i], data[j])\n",
    "            scores[i][j] = s\n",
    "    return scores"
   ]
  },
  {
   "cell_type": "code",
   "execution_count": 6,
   "id": "27928330-aaa1-4952-a9f2-46ddb1877107",
   "metadata": {},
   "outputs": [],
   "source": [
    "scores = calc_all_scores(data, join_score)"
   ]
  },
  {
   "cell_type": "code",
   "execution_count": 7,
   "id": "971e69fc-2aef-458f-818a-64724c0fc3da",
   "metadata": {},
   "outputs": [
    {
     "data": {
      "text/plain": [
       "array([[nan,  8.,  8., ...,  9.,  8.,  9.],\n",
       "       [ 8., nan,  9., ...,  8.,  9.,  9.],\n",
       "       [10.,  9., nan, ...,  8., 10., 10.],\n",
       "       ...,\n",
       "       [ 9., 10., 10., ..., nan, 10., 10.],\n",
       "       [ 9.,  8.,  9., ...,  8., nan,  9.],\n",
       "       [ 8.,  8.,  9., ...,  8.,  9., nan]])"
      ]
     },
     "execution_count": 7,
     "metadata": {},
     "output_type": "execute_result"
    }
   ],
   "source": [
    "scores"
   ]
  },
  {
   "cell_type": "markdown",
   "id": "6ab70e25",
   "metadata": {},
   "source": [
    "# Get poems that fit together best\n",
    "\n",
    "This is just to check that the join scores are working okay."
   ]
  },
  {
   "cell_type": "code",
   "execution_count": 8,
   "id": "c575e583-bca7-4f8c-892d-54880021aeb0",
   "metadata": {},
   "outputs": [],
   "source": [
    "def get_top_scores(scores, thisdata, asc=True, n=5):\n",
    "    flattened = scores.flatten()\n",
    "    if asc:\n",
    "        sorted_indices = np.argsort(flattened)\n",
    "    else:\n",
    "        sorted_indices = np.argsort(-flattened)\n",
    "    indices_2d = np.unravel_index(sorted_indices, scores.shape)\n",
    "    sorted_indices_list = list(zip(indices_2d[0], indices_2d[1]))\n",
    "    \n",
    "    for i, val in enumerate(sorted_indices_list[0:n]):\n",
    "        print('indices:', val)\n",
    "        print('score:', scores[val[0],val[1]])\n",
    "        print('>>>', raw_data[val[0]], '\\n>>>>', raw_data[val[1]], '\\n')\n",
    "\n",
    "    return sorted_indices_list"
   ]
  },
  {
   "cell_type": "code",
   "execution_count": 9,
   "id": "51ab4200-0034-4209-93e2-9d8600eb56d1",
   "metadata": {},
   "outputs": [
    {
     "name": "stdout",
     "output_type": "stream",
     "text": [
      "indices: (15, 163)\n",
      "score: 5.0\n",
      ">>>  We get our dog neutered. He comes home whimpering in the back of the car, then struggles to lie down in the bedroom, his back leg twitching, his head drooping. With the cone he is unable to push his head into my stomach, like he normally does in the morning when he's just woken up. Instead he stands sadly still, tail down. Eventually, he curls up the best he can. We take turns laying down next to him while he sleeps in fits. We were not sure that we should neuter him, but we decided to do it. Reasons, reasons. Fertility is not his future.\n",
      " \n",
      ">>>>  It is not my job to imagine the future. \n",
      " \n",
      "\n",
      "indices: (96, 48)\n",
      "score: 5.0\n",
      ">>>  I am on the verge of tears. The edge of crying. I look over the precipice and it is no good out there, I'd like to stay here, where the emotions live behind the eyes, where I'm still able to walk to work and make myself dinner. I am overflowing. With what? With a lack of breath, with a fear of the future, with a desire to stay home, with a hope that the people close to me can hold me right, with a weight that bears down so hard on my ankles they swell at the elastic of my socks. Words should contain this much. Words should be on the verge, should look out over the precipice, should want so much more than they have to give. The best books end just after the words do. They hang around in the room with you, swiveled and swirling, that amorphous ghost they have birthed not ready, not quite yet, to leave. \n",
      " \n",
      ">>>>  Perhaps the words are not yet ready to be birthed. The metaphor is nice: the poem comes premature, or overdue. The poem creates a difficult labor, comes unexpectedly quick. The poem is in breech, or its chin won't tuck. My mother had seven children; she knew how to bring something into the world. What if I only write one poem in my entire life? What if I could not practice? Instead, I wash dishes for decades, watching the soap slick over my favorite mug, experimenting with sponges and scrub brushes and different temperatures of water. At the end, the poem comes out, and it is long but finite, and all I get to do is watch it grow.\n",
      " \n",
      "\n",
      "indices: (30, 161)\n",
      "score: 5.0\n",
      ">>>  My placenta is bilobed, two pancakes separated by a small cord, two matching organs which should have been one. I am twice here. Once, watching the bird posed for flight, its head waiting for the sky to reach down. Once, pulsing blood throughout tiny tubes inside me, poised to fill some other creature with life. In the ultrasound it is clear: the even grey blobs are close but do not touch. The baby's head a mere distraction. But out here in the world the knowing is different. I know that something shifts within me. I know that my surface is thick and changing. I know that at some point separation will occur. I know that so much is happening without me.\n",
      " \n",
      ">>>>  I daydream about a job that gives me so much but would not give me writing. The anxiety of conception is its instability; we conceive before the world asks anything of us, and the world has asked so little of writers, we writers too eager to offer up our strange dreams. I want to sleep in the bed of creation, but I worry about my other dreams: computation, academia, health insurance. I feel blinded by my own station. I feel asleep at my own side.\n",
      " \n",
      "\n",
      "indices: (58, 103)\n",
      "score: 5.0\n",
      ">>>  I stare at the leaves, which skirt the tree and look up at those yet to fall. The backside of each leaf being a pale reflection. Colors are muted but still its their range, the set of hues in infinite arrangement, the palette that comes back every year. The leaves are half-fallen. The season is half-here. I am halfway through a journey which is just a beginning.\n",
      " \n",
      ">>>>  Is it okay to have children? I am halfway through A Children's Bible -- a novel, not a bible -- and the parents are idiotic, unable to deal with the consequences of climate change, taking ecstasy while the children escape with a groundskeeper to the countryside, although there is no real escape, there never is. Two of the younger children collect animals for an ark (it's a hurricane they flee) and they are right, in their small way: a good response to disaster is to remember creation. I know that words will not save us, despite a strong desire to arrange them just so, but the push towards a future that is, in some specific ways, new feels right.\n",
      " \n",
      "\n",
      "indices: (158, 165)\n",
      "score: 6.0\n",
      ">>>  The future remains blurred: a book, I guess, a child, I suppose. Fuzzy images without even the details of a dream, just tropes, cardboard cut-outs of a future life. I could never really imagine the future, the imagining breaking apart reality, or stifling it. But still there are times when I craft it carefully, a character in a novel being sculpted into a person you can talk to or predict, even though the character isn't real, you can't imagine it into flesh. Now, though, I enter another realm of creation, where I walk slowly, and buy the bassinet and put down the words and am not even all that present but simply look out ahead into the foggy distance which I get closer to with every step.\n",
      " \n",
      ">>>>  Perhaps I should get some fish. Bring me closer to the ocean. Let me see their sleek and smooth corkscrews through the water. I don't dream of waterbirth but I do wonder. My dog sometimes seems like a dolphin, a watersnake, something too flexible and smooth for land, he head laying down flat on the ground in plane with his ribs, his body coiled like a dragon. Air gives us these sharp shapes: elbows, knees, ankles. Water seems to turn us velvet and sleek. The dolphins and whales---returning to sea after evolving on land---had to let go of knuckles and joints and right-angled hips. Fish seem closer to amoebas and cells. Wobbly, permeable, topologically sound. I am all angle and heat, but I want to remember that there's a way to swim through my life with just the tiny bubbles of air glossing off my surface.\n",
      " \n",
      "\n",
      "indices: (159, 33)\n",
      "score: 6.0\n",
      ">>>  After I am told the baby has flipped I cry. And the midwife looks concerned but of course I am happy and shocked and when you get what you want there is this moment, it can be brief, where the anxiety disappears. The future holds still and the past loosens and suddenly you are breathing in just the fresh air of relief and it is clean and delicious and I am stumped, cut down to the quick, burning and alive.\n",
      " \n",
      ">>>>  I keep forgetting. People talk to me and I am fully there, all mind, no body. There is no body within me. Human drama curls around my consciousness. I am pure empath. All talk. But the leaves become so red outside. Deep and pulsing, beating against the yellow and orange, cresting against the blue of the sky. The color sings and then, the shadow lifts. I am again a mass of blood and flesh. Creator of worlds.\n",
      " \n",
      "\n",
      "indices: (114, 56)\n",
      "score: 6.0\n",
      ">>>  Okay, so what I will do is have the computer learn the cadence of my words, the way one tends to come after another, the way phrases link up into sentences which link up into these little paragraphs I offer up like the tiniest of gifts. And then the computer will tell me which paragraph (let's call them poems, no?) follows which. How the poems connect into their own kind of dance which fractals out from the way I've joined the sentences and the phrases and the words. And something will come of this, something I didn't expect or even intend. Poems will dovetail together because their rhythm or sound slotted in just right. And you will conceive of this project differently because of it. Because something came out of me which I did not fully control.\n",
      " \n",
      ">>>>  I want to labor this child out of me. A perverse desire to suffer just like all the people before me. I just want to know what it's like, even if I expect to not like it, or perhaps I want to prove that I am strong in some way that I doubt, or maybe I just sadistic, or maybe I want to labor everything out of me, refuse anything that could mollify the pain of creation. I am worried but not too worried because above the worry is curiosity and if only everything that caused me pain could also evoke wonder.\n",
      " \n",
      "\n",
      "indices: (39, 48)\n",
      "score: 6.0\n",
      ">>>  Already I project what this may become, how it may be received, as if before anything has existed it already lives a whole life as conjecture. I imagine you as enraptured or perhaps disappointed. I imagine myself as content or perhaps disturbed. It is hard to imagine a child, though, as I have no vision for this creative act, only that the process attracts me. Perhaps this is a better way to write: without goal, only an interest in the way the words might come out, ready to be surprised. \n",
      " \n",
      ">>>>  Perhaps the words are not yet ready to be birthed. The metaphor is nice: the poem comes premature, or overdue. The poem creates a difficult labor, comes unexpectedly quick. The poem is in breech, or its chin won't tuck. My mother had seven children; she knew how to bring something into the world. What if I only write one poem in my entire life? What if I could not practice? Instead, I wash dishes for decades, watching the soap slick over my favorite mug, experimenting with sponges and scrub brushes and different temperatures of water. At the end, the poem comes out, and it is long but finite, and all I get to do is watch it grow.\n",
      " \n",
      "\n",
      "indices: (55, 84)\n",
      "score: 6.0\n",
      ">>>  The patterns bend and emerge like an optical illusion. I try to refuse the stress of my job and instead enjoy this thing within me, which I will only have for so long. The keys click softly but in an organic pattern, telling me something about language and how it emerges from our hands. The stress is mostly about fear, or really uncertainty, and I want to believe that I can hold uncertainty with care. \n",
      " \n",
      ">>>>  I want to invent something, but that is different than creation. Creation doesn't presume novelty. I am not inventing a child. At some point, at least a hundred years ago, invention meant \"The action of coming upon or finding; the action of finding out; discovery (whether accidental, or the result of search and effort). Obsolete or archaic.\" An accidental finding, and maybe that finding was not new, or did not have to be new. Like p-creativity (creative to you) and h-creativity (creative to all, creative historically) we can split the world into mine and the one we both inhabit. Do I discover a child within me? Do I find out about it, the result of search and effort? Invention also being a \"coming in, arrival\" or \"A short piece of music in which a single idea is worked out in a simple manner: a term used by J. S. Bach, and probably by him only, for small pianoforte pieces—15 in 2 parts and 15 in 3 parts—each developing a single idea, and in some measure answering to the Impromptu of a later day.\" \n",
      " \n",
      "\n",
      "indices: (114, 128)\n",
      "score: 6.0\n",
      ">>>  Okay, so what I will do is have the computer learn the cadence of my words, the way one tends to come after another, the way phrases link up into sentences which link up into these little paragraphs I offer up like the tiniest of gifts. And then the computer will tell me which paragraph (let's call them poems, no?) follows which. How the poems connect into their own kind of dance which fractals out from the way I've joined the sentences and the phrases and the words. And something will come of this, something I didn't expect or even intend. Poems will dovetail together because their rhythm or sound slotted in just right. And you will conceive of this project differently because of it. Because something came out of me which I did not fully control.\n",
      " \n",
      ">>>>  I can't beat the words out of me. Before the moment something exists, it burns. There are things you can do. Preparations, exercises, hopes. But sometimes the baby comes out upside down; there was nothing you could do. Backwards, words turn to snow: crystalline, yes, and filled with holes. The kind of creation that melts in your hand. You can't hold onto this.\n",
      " \n",
      "\n"
     ]
    }
   ],
   "source": [
    "x = get_top_scores(scores, data, asc=True, n=10)"
   ]
  },
  {
   "cell_type": "markdown",
   "id": "1677cf07-5840-4655-9576-ae17013f1cf1",
   "metadata": {},
   "source": [
    "# Find 'best' path\n",
    "\n",
    "This is a traveling salesman problem with assymetric distances. I'm going to use a Markov Chain Monte Carlo method to stochastically find a good path. The basic idea is to start with a random path, and then randomly swap \"cities\" and check if the new path is better; then we repeat this many times. However, to avoid local minimums, we add some wiggle room for selecting a slightly less optimal path. We'll add in simulated annealing, which means we'll decrease the wiggle room as we go on.\n",
    "\n",
    "To keep in line with traveling salesman terminology, each poem is called 'city', and the ordering of the poems is called the 'tour'. The scores between poems are 'distances'.\n",
    "\n",
    "Shouldn't take more than a second or two to run with 50k iterations."
   ]
  },
  {
   "cell_type": "code",
   "execution_count": 10,
   "id": "d8d06ee2-2635-46b3-930a-7f4c1942d177",
   "metadata": {},
   "outputs": [
    {
     "name": "stdout",
     "output_type": "stream",
     "text": [
      "Best Tour: [21, 135, 144, 58, 103, 35, 2, 13, 106, 57, 125, 104, 154, 50, 148, 113, 4, 146, 20, 71, 83, 69, 34, 51, 76, 141, 70, 49, 167, 117, 17, 52, 136, 12, 110, 42, 122, 63, 162, 82, 74, 68, 37, 158, 43, 133, 101, 3, 89, 79, 47, 137, 107, 44, 97, 115, 109, 40, 164, 95, 23, 147, 131, 72, 142, 19, 96, 48, 7, 108, 159, 33, 6, 65, 123, 36, 128, 153, 114, 56, 16, 140, 46, 24, 151, 121, 88, 31, 118, 27, 102, 30, 161, 80, 87, 130, 91, 92, 100, 143, 39, 0, 99, 85, 15, 163, 32, 60, 55, 41, 90, 126, 156, 28, 157, 111, 78, 26, 11, 155, 127, 67, 1, 94, 86, 54, 124, 116, 138, 149, 18, 120, 134, 61, 14, 5, 166, 165, 9, 53, 77, 150, 38, 98, 132, 10, 129, 119, 145, 8, 25, 93, 62, 22, 81, 152, 160, 105, 75, 29, 139, 84, 73, 64, 59, 45, 112, 66]\n",
      "Best Distance: 1339.0\n"
     ]
    }
   ],
   "source": [
    "import random\n",
    "import math\n",
    "\n",
    "def calculate_total_distance(tour, distance_matrix):\n",
    "    return sum(distance_matrix[tour[i]][tour[i+1]] for i in range(len(tour)-1))\n",
    "\n",
    "def swap_cities(tour):\n",
    "    new_tour = tour[:]\n",
    "    i, j = random.sample(range(len(tour)), 2)\n",
    "    new_tour[i], new_tour[j] = new_tour[j], new_tour[i]\n",
    "    return new_tour\n",
    "\n",
    "def simulated_annealing_tsp(cities, distance_matrix, iterations, initial_temperature):\n",
    "    current_tour = random.sample(cities, len(cities))\n",
    "    current_distance = calculate_total_distance(current_tour, distance_matrix)\n",
    "    best_tour = current_tour\n",
    "    best_distance = current_distance\n",
    "\n",
    "    temperature = initial_temperature\n",
    "\n",
    "    down_sample = 100\n",
    "    distance_array = np.empty(int(iterations/down_sample))\n",
    "\n",
    "    for iteration in range(iterations):\n",
    "        if iteration%down_sample == 0:\n",
    "            distance_array[int(iteration/down_sample)] = current_distance\n",
    "            \n",
    "        new_tour = swap_cities(current_tour)\n",
    "        new_distance = calculate_total_distance(new_tour, distance_matrix)\n",
    "        delta_distance = new_distance - current_distance\n",
    "\n",
    "        if delta_distance < 0 or random.random() < math.exp(-delta_distance / temperature):\n",
    "            # print(\"new distance:\", new_distance)\n",
    "            current_tour = new_tour\n",
    "            current_distance = new_distance\n",
    "            if new_distance < best_distance:\n",
    "                best_tour = new_tour\n",
    "                best_distance = new_distance\n",
    "\n",
    "        temperature *= 0.999  # Cooling schedule\n",
    "\n",
    "    return best_tour, best_distance, distance_array\n",
    "\n",
    "# Example usage\n",
    "cities = list(range(len(data)))  # Example cities\n",
    "distance_matrix = scores  # Your asymmetric distance matrix\n",
    "iterations = 50000\n",
    "initial_temperature = 100\n",
    "\n",
    "best_tour, best_distance, distance_array = simulated_annealing_tsp(cities, distance_matrix, iterations, initial_temperature)\n",
    "print(\"Best Tour:\", best_tour)\n",
    "print(\"Best Distance:\", best_distance)\n"
   ]
  },
  {
   "cell_type": "code",
   "execution_count": 11,
   "id": "69898501-0a45-4223-a092-0e209e2a2885",
   "metadata": {},
   "outputs": [
    {
     "data": {
      "image/png": "[encoded data removed]",
      "text/plain": [
       "<Figure size 640x480 with 1 Axes>"
      ]
     },
     "metadata": {},
     "output_type": "display_data"
    }
   ],
   "source": [
    "import matplotlib.pyplot as plt\n",
    "\n",
    "# Generate x-axis values (indices of the array)\n",
    "indices = np.arange(len(distance_array))\n",
    "\n",
    "# Create a line plot\n",
    "plt.plot(indices, distance_array, marker='o')\n",
    "\n",
    "# Add titles and labels\n",
    "plt.title('Simple Line Graph')\n",
    "plt.xlabel('Index')\n",
    "plt.ylabel('Value')\n",
    "\n",
    "# Show the plot\n",
    "plt.show()\n"
   ]
  },
  {
   "cell_type": "code",
   "execution_count": 15,
   "id": "91afee44-5525-4d81-96a0-ef680509c0b6",
   "metadata": {},
   "outputs": [],
   "source": [
    "with open('best_tour.txt', 'w') as fle:\n",
    "    for i, index in enumerate(best_tour[:-1]):\n",
    "        poem = raw_data[index]\n",
    "        score = scores[index, best_tour[i+1]]\n",
    "        fle.write(f\"{poem} [{score}]\")"
   ]
  },
  {
   "cell_type": "code",
   "execution_count": null,
   "id": "ff6b53f8-9831-4877-88cb-12a76c5df358",
   "metadata": {},
   "outputs": [],
   "source": []
  }
 ],
 "metadata": {
  "kernelspec": {
   "display_name": "Python 3 (ipykernel)",
   "language": "python",
   "name": "python3"
  },
  "language_info": {
   "codemirror_mode": {
    "name": "ipython",
    "version": 3
   },
   "file_extension": ".py",
   "mimetype": "text/x-python",
   "name": "python",
   "nbconvert_exporter": "python",
   "pygments_lexer": "ipython3",
   "version": "3.9.13"
  }
 },
 "nbformat": 4,
 "nbformat_minor": 5
}
