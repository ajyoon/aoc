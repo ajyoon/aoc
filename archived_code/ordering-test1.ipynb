{
 "cells": [
  {
   "cell_type": "markdown",
   "id": "14b3d775-a34a-4568-9275-fcdfee38fd9c",
   "metadata": {},
   "source": [
    "# Experimentation for AOC computational poetry book\n",
    "\n",
    "## First attempt: NLTK Ngram Language Modeling\n",
    "\n",
    "See [nltk.lm package](https://www.nltk.org/api/nltk.lm.html) for relevant documentation.\n",
    "\n",
    "Note that to calculate [entropy](https://www.nltk.org/api/nltk.lm.api.html?highlight=perplexity#nltk.lm.api.LanguageModel.entropy) (i.e. cross-entropy) the [function](https://www.nltk.org/_modules/nltk/lm/api.html#LanguageModel.entropy) takes a sequence of ngram tuples and calculates the mean of the logscore for each ngram. The [perplexity](https://www.nltk.org/api/nltk.lm.api.html?highlight=perplexity#nltk.lm.api.LanguageModel.perplexity) is 2^cross-entropy for the text.\n",
    "\n",
    "### Test run following [this](https://www.nltk.org/api/nltk.lm.html) documention"
   ]
  },
  {
   "cell_type": "code",
   "execution_count": 237,
   "id": "898a6766-a264-4477-b440-fbe9b3441cc4",
   "metadata": {},
   "outputs": [],
   "source": [
    "from nltk.lm.preprocessing import padded_everygram_pipeline\n",
    "\n",
    "text = [['a', 'b', 'c'], ['a', 'c', 'd', 'c', 'e', 'f']]\n",
    "n = 3\n",
    "train, vocab = padded_everygram_pipeline(n, text)"
   ]
  },
  {
   "cell_type": "code",
   "execution_count": 238,
   "id": "3377e002-f10d-4ab1-be31-c65d622cd8a8",
   "metadata": {},
   "outputs": [],
   "source": [
    "from nltk.lm import MLE\n",
    "lm = MLE(n)\n",
    "lm.fit(train, vocab)"
   ]
  },
  {
   "cell_type": "code",
   "execution_count": 239,
   "id": "ecfbc1e2-3023-48b8-bab8-7c4cc265d1fc",
   "metadata": {},
   "outputs": [
    {
     "name": "stdout",
     "output_type": "stream",
     "text": [
      "<Vocabulary with cutoff=1 unk_label='<UNK>' and 9 items> <NgramCounter with 3 ngram orders and 45 ngrams>\n"
     ]
    }
   ],
   "source": [
    "print(lm.vocab, lm.counts)"
   ]
  },
  {
   "cell_type": "code",
   "execution_count": 240,
   "id": "b72c9737-d3cb-4a0f-9cd1-4ca1dfa96145",
   "metadata": {},
   "outputs": [
    {
     "data": {
      "text/plain": [
       "(('a', 'b', 'c'), ('<UNK>', '<UNK>', '<UNK>'))"
      ]
     },
     "execution_count": 240,
     "metadata": {},
     "output_type": "execute_result"
    }
   ],
   "source": [
    "lm.vocab.lookup(text[0]), lm.vocab.lookup([\"aliens\", \"from\", \"Mars\"])"
   ]
  },
  {
   "cell_type": "code",
   "execution_count": 241,
   "id": "44831281-7009-4f73-9df5-988964359e27",
   "metadata": {},
   "outputs": [
    {
     "data": {
      "text/plain": [
       "(2, 1, 1)"
      ]
     },
     "execution_count": 241,
     "metadata": {},
     "output_type": "execute_result"
    }
   ],
   "source": [
    "lm.counts['a'], lm.counts[['a']]['b'], lm.counts[['a', 'b']]['c'], "
   ]
  },
  {
   "cell_type": "markdown",
   "id": "22e3603a-9cbe-4fd1-9705-3e8d4278a717",
   "metadata": {},
   "source": [
    "Calculate score (or logprob) of \"b\" being preceded by \"a\":"
   ]
  },
  {
   "cell_type": "code",
   "execution_count": 242,
   "id": "b0a56fff-36e8-475f-a407-35fc1bac67e3",
   "metadata": {},
   "outputs": [
    {
     "data": {
      "text/plain": [
       "(0.5, -1.0)"
      ]
     },
     "execution_count": 242,
     "metadata": {},
     "output_type": "execute_result"
    }
   ],
   "source": [
    "lm.score(\"b\", [\"a\"]), lm.logscore(\"b\", [\"a\"])"
   ]
  },
  {
   "cell_type": "code",
   "execution_count": 243,
   "id": "57c422a4-d487-4a7e-a340-e4dba960f3ff",
   "metadata": {},
   "outputs": [
    {
     "data": {
      "text/plain": [
       "(-inf, 0.0)"
      ]
     },
     "execution_count": 243,
     "metadata": {},
     "output_type": "execute_result"
    }
   ],
   "source": [
    "lm.logscore(\"b\", [\"a\", \"a\"]), lm.logscore(\"d\", [\"a\", \"c\"])"
   ]
  },
  {
   "cell_type": "code",
   "execution_count": 244,
   "id": "e4169533-6a72-4183-b461-2251340cb54b",
   "metadata": {},
   "outputs": [
    {
     "data": {
      "text/plain": [
       "(1.292481250360578, 2.449489742783178)"
      ]
     },
     "execution_count": 244,
     "metadata": {},
     "output_type": "execute_result"
    }
   ],
   "source": [
    "test = [('a', 'b'), ('c', 'd')]\n",
    "lm.entropy(test), lm.perplexity(test)"
   ]
  },
  {
   "cell_type": "code",
   "execution_count": 245,
   "id": "e9bdcf40-575c-48e5-8488-f080707d3293",
   "metadata": {},
   "outputs": [
    {
     "data": {
      "text/plain": [
       "(1.0, 2.0)"
      ]
     },
     "execution_count": 245,
     "metadata": {},
     "output_type": "execute_result"
    }
   ],
   "source": [
    "test = [('a', 'b'), ('a', 'b')]\n",
    "lm.entropy(test), lm.perplexity(test)"
   ]
  },
  {
   "cell_type": "markdown",
   "id": "d165f20f-475a-4a79-a936-5d91882797e0",
   "metadata": {},
   "source": [
    "### Try with actual writing data"
   ]
  },
  {
   "cell_type": "code",
   "execution_count": 246,
   "id": "450093fe-30a6-4b7b-863d-13e785daa68c",
   "metadata": {},
   "outputs": [
    {
     "data": {
      "text/plain": [
       "('i visualize two paths my life might take the one where i have a child and the one where i do not i try to place them on equal footing imagining each as something i truly want though i know both will be filled with disappointment and loss',\n",
       " 'we learn that our dog can still lick his wound even with the cone he nudges the cone up his neck and holds it there with his knee then with his everflexible neck he can reach beyond the edge of the cone to his genitals what is the point of this cone')"
      ]
     },
     "execution_count": 246,
     "metadata": {},
     "output_type": "execute_result"
    }
   ],
   "source": [
    "import string\n",
    "\n",
    "def simple_tokenize(s):\n",
    "    s = s.lower()\n",
    "    s = s.translate(str.maketrans('', '', string.punctuation))\n",
    "    return s.split(\" \")\n",
    "\n",
    "data = []\n",
    "with open(\"part_a.txt\", \"r\") as fle:\n",
    "    for line in fle:\n",
    "        if line[0] == \"[\":\n",
    "            text = line.split(\"]\")[1]\n",
    "            data.append(simple_tokenize(text.strip()))\n",
    "\n",
    "(' ').join(data[0]), (' ').join(data[21])"
   ]
  },
  {
   "cell_type": "code",
   "execution_count": 247,
   "id": "78cbd052-b69a-4d5a-80b9-a13682df579b",
   "metadata": {},
   "outputs": [],
   "source": [
    "n = 3\n",
    "train, vocab = padded_everygram_pipeline(n, data)"
   ]
  },
  {
   "cell_type": "code",
   "execution_count": 248,
   "id": "4ad28b37-3a9b-4c0a-9f13-e978b53b7e6b",
   "metadata": {},
   "outputs": [],
   "source": [
    "lm = MLE(n)\n",
    "lm.fit(train, vocab)"
   ]
  },
  {
   "cell_type": "code",
   "execution_count": 249,
   "id": "3c911641-374d-4aa1-85b0-f60fb86432cd",
   "metadata": {},
   "outputs": [
    {
     "name": "stdout",
     "output_type": "stream",
     "text": [
      "<Vocabulary with cutoff=1 unk_label='<UNK>' and 3103 items> <NgramCounter with 3 ngram orders and 50337 ngrams>\n"
     ]
    }
   ],
   "source": [
    "print(lm.vocab, lm.counts)"
   ]
  },
  {
   "cell_type": "code",
   "execution_count": 250,
   "id": "b0bf806d-3d82-45f3-a225-0c38fd961a00",
   "metadata": {},
   "outputs": [
    {
     "data": {
      "text/plain": [
       "-5.139551352398794"
      ]
     },
     "execution_count": 250,
     "metadata": {},
     "output_type": "execute_result"
    }
   ],
   "source": [
    "lm.logscore(\"dog\", [\"my\"])"
   ]
  },
  {
   "cell_type": "code",
   "execution_count": 251,
   "id": "03117b6b-3a21-487c-aa74-8df3e17a3f15",
   "metadata": {},
   "outputs": [
    {
     "data": {
      "text/plain": [
       "(5.23176218663559, 37.57658845611188)"
      ]
     },
     "execution_count": 251,
     "metadata": {},
     "output_type": "execute_result"
    }
   ],
   "source": [
    "test = [(\"i\", \"truly\"), (\"truly\", \"want\")]\n",
    "\n",
    "lm.entropy(test), lm.perplexity(test)"
   ]
  },
  {
   "cell_type": "markdown",
   "id": "f9f4faa9-bc23-4773-9074-08acdbb38772",
   "metadata": {},
   "source": [
    "### Okay now try with a model that smooths (i.e. can deal w unseen ngrams)"
   ]
  },
  {
   "cell_type": "code",
   "execution_count": 252,
   "id": "ceb21870-cc74-4ef9-aaa2-3f92fe8a8a43",
   "metadata": {},
   "outputs": [],
   "source": [
    "from nltk.lm import KneserNeyInterpolated\n",
    "n = 4 \n",
    "train, vocab = padded_everygram_pipeline(n, data)\n",
    "\n",
    "model = KneserNeyInterpolated(n) \n",
    "model.fit(train, vocab)"
   ]
  },
  {
   "cell_type": "code",
   "execution_count": 253,
   "id": "203fe5fc-3235-4f7b-99c3-2b948b0d1aa3",
   "metadata": {},
   "outputs": [
    {
     "data": {
      "text/plain": [
       "(16.66375382337209, 103822.08377491328)"
      ]
     },
     "execution_count": 253,
     "metadata": {},
     "output_type": "execute_result"
    }
   ],
   "source": [
    "test = [(\"i\", \"truly\", \"am\"), (\"i\", \"truly\", \"was\")]\n",
    "\n",
    "model.entropy(test), model.perplexity(test)"
   ]
  },
  {
   "cell_type": "code",
   "execution_count": 254,
   "id": "90ea0d23-3298-4533-828d-cd69a600d171",
   "metadata": {},
   "outputs": [
    {
     "data": {
      "text/plain": [
       "0.07920825408287488"
      ]
     },
     "execution_count": 254,
     "metadata": {},
     "output_type": "execute_result"
    }
   ],
   "source": [
    "test = [data[0][0:3], data[0][1:4], data[0][2:5]]\n",
    "\n",
    "model.entropy(test)"
   ]
  },
  {
   "cell_type": "code",
   "execution_count": 255,
   "id": "3da9a3f3-3e09-46c6-ac9d-8c58b6ebb007",
   "metadata": {},
   "outputs": [
    {
     "data": {
      "text/plain": [
       "0.536621703609348"
      ]
     },
     "execution_count": 255,
     "metadata": {},
     "output_type": "execute_result"
    }
   ],
   "source": [
    "test = [data[0], data[1]]\n",
    "\n",
    "model.entropy(test)"
   ]
  },
  {
   "cell_type": "code",
   "execution_count": 256,
   "id": "f6129cc8-67da-411b-b399-b4d30c0aabee",
   "metadata": {},
   "outputs": [
    {
     "data": {
      "text/plain": [
       "0.23284617042905795"
      ]
     },
     "execution_count": 256,
     "metadata": {},
     "output_type": "execute_result"
    }
   ],
   "source": [
    "model.entropy(data)"
   ]
  },
  {
   "cell_type": "markdown",
   "id": "4dcb7922-ba4e-4170-82af-9ebd1fe693c0",
   "metadata": {},
   "source": [
    "Note that logscore calculates the likelihood of a word given the previous n-1 words, regardless of how many words at in the list of the second item passed. i.e. the two cells below have the same output, even though the first one passes through the entire poem's words and the second one only passes through the last 4 words."
   ]
  },
  {
   "cell_type": "code",
   "execution_count": 257,
   "id": "fd2f30ea-a7e2-411f-9aaa-1d5febd76301",
   "metadata": {},
   "outputs": [
    {
     "data": {
      "text/plain": [
       "-0.014475099493263041"
      ]
     },
     "execution_count": 257,
     "metadata": {},
     "output_type": "execute_result"
    }
   ],
   "source": [
    "model.logscore(data[0][-1], data[0][:-1])"
   ]
  },
  {
   "cell_type": "code",
   "execution_count": 258,
   "id": "0a0b38ad-9e4c-43d4-9951-ad30767aa3b2",
   "metadata": {},
   "outputs": [
    {
     "data": {
      "text/plain": [
       "-0.014475099493263041"
      ]
     },
     "execution_count": 258,
     "metadata": {},
     "output_type": "execute_result"
    }
   ],
   "source": [
    "model.logscore(data[0][-1], data[0][-4:-1])"
   ]
  },
  {
   "cell_type": "code",
   "execution_count": 259,
   "id": "1d7d613b-fec6-4818-8429-a20f90196fc1",
   "metadata": {},
   "outputs": [
    {
     "data": {
      "text/plain": [
       "8.488897042811038"
      ]
     },
     "execution_count": 259,
     "metadata": {},
     "output_type": "execute_result"
    }
   ],
   "source": [
    "def score_join_ngram(a, b):\n",
    "    \"\"\"a and b should be 'poems' from the dataset, where each one is a list of words\"\"\"\n",
    "    joining_ngrams = [a[-n+i:] + b[:i] for i in range(1,n)]\n",
    "    return model.entropy(joining_ngrams)\n",
    "\n",
    "score_join_ngram(data[0], data[1])"
   ]
  },
  {
   "cell_type": "markdown",
   "id": "c1dfd460-a9dc-47f0-91aa-b37483623a3a",
   "metadata": {},
   "source": [
    "Shared function! See below. Right now only considers a->b and ignores asymmetries (for speed sake, eventually remove.)"
   ]
  },
  {
   "cell_type": "code",
   "execution_count": 265,
   "id": "3eaee343-8446-447b-b298-8303b8594b4a",
   "metadata": {},
   "outputs": [],
   "source": [
    "import numpy as np\n",
    "\n",
    "def calc_all_scores(data, score_join_func):\n",
    "    scores = np.empty([len(data), len(data)])\n",
    "    for i in range(len(data)):\n",
    "        for j in range(len(data)):\n",
    "            if i <= j:\n",
    "                s = np.nan\n",
    "            else:\n",
    "                s = score_join_func(data[i], data[j])\n",
    "            scores[i][j] = s\n",
    "    return scores"
   ]
  },
  {
   "cell_type": "code",
   "execution_count": 266,
   "id": "9b37560e-b485-4b3b-a8c5-fcf289e6a762",
   "metadata": {},
   "outputs": [
    {
     "data": {
      "text/plain": [
       "168"
      ]
     },
     "execution_count": 266,
     "metadata": {},
     "output_type": "execute_result"
    }
   ],
   "source": [
    "len(data)"
   ]
  },
  {
   "cell_type": "code",
   "execution_count": 267,
   "id": "e1b5766b-684b-4b37-a021-f9ac3c7b7287",
   "metadata": {},
   "outputs": [
    {
     "data": {
      "text/plain": [
       "array([[       nan,        nan,        nan,        nan,        nan,\n",
       "               nan,        nan,        nan,        nan,        nan,\n",
       "               nan,        nan,        nan,        nan,        nan,\n",
       "               nan,        nan,        nan,        nan,        nan],\n",
       "       [8.18718355,        nan,        nan,        nan,        nan,\n",
       "               nan,        nan,        nan,        nan,        nan,\n",
       "               nan,        nan,        nan,        nan,        nan,\n",
       "               nan,        nan,        nan,        nan,        nan],\n",
       "       [7.87419281, 8.10650522,        nan,        nan,        nan,\n",
       "               nan,        nan,        nan,        nan,        nan,\n",
       "               nan,        nan,        nan,        nan,        nan,\n",
       "               nan,        nan,        nan,        nan,        nan],\n",
       "       [8.23301806, 8.20139822, 8.2381051 ,        nan,        nan,\n",
       "               nan,        nan,        nan,        nan,        nan,\n",
       "               nan,        nan,        nan,        nan,        nan,\n",
       "               nan,        nan,        nan,        nan,        nan],\n",
       "       [8.18718355, 8.15556371, 8.1922706 , 8.16152698,        nan,\n",
       "               nan,        nan,        nan,        nan,        nan,\n",
       "               nan,        nan,        nan,        nan,        nan,\n",
       "               nan,        nan,        nan,        nan,        nan],\n",
       "       [8.18718355, 8.15556371, 8.1922706 , 8.16152698, 8.54091624,\n",
       "               nan,        nan,        nan,        nan,        nan,\n",
       "               nan,        nan,        nan,        nan,        nan,\n",
       "               nan,        nan,        nan,        nan,        nan],\n",
       "       [8.08225053, 8.35055121, 8.3872581 , 8.05659396, 8.43598323,\n",
       "        7.73476164,        nan,        nan,        nan,        nan,\n",
       "               nan,        nan,        nan,        nan,        nan,\n",
       "               nan,        nan,        nan,        nan,        nan],\n",
       "       [8.18718355, 8.15556371, 8.1922706 , 8.16152698, 8.54091624,\n",
       "        7.83969466, 7.91924931,        nan,        nan,        nan,\n",
       "               nan,        nan,        nan,        nan,        nan,\n",
       "               nan,        nan,        nan,        nan,        nan],\n",
       "       [8.18718355, 8.15556371, 8.1922706 , 8.16152698, 8.54091624,\n",
       "        7.83969466, 7.91924931, 7.07431462,        nan,        nan,\n",
       "               nan,        nan,        nan,        nan,        nan,\n",
       "               nan,        nan,        nan,        nan,        nan],\n",
       "       [8.22419399, 7.30080565, 8.22928103, 8.19853741, 8.57792668,\n",
       "        7.8767051 , 7.95625974, 7.11132505, 8.14079623,        nan,\n",
       "               nan,        nan,        nan,        nan,        nan,\n",
       "               nan,        nan,        nan,        nan,        nan],\n",
       "       [8.18718355, 8.15556371, 8.1922706 , 8.16152698, 8.54091624,\n",
       "        7.83969466, 7.91924931, 7.07431462, 8.10378579, 8.2148424 ,\n",
       "               nan,        nan,        nan,        nan,        nan,\n",
       "               nan,        nan,        nan,        nan,        nan],\n",
       "       [8.18718355, 8.15556371, 8.1922706 , 8.16152698, 8.54091624,\n",
       "        7.83969466, 7.91924931, 7.07431462, 8.10378579, 8.2148424 ,\n",
       "        8.29354135,        nan,        nan,        nan,        nan,\n",
       "               nan,        nan,        nan,        nan,        nan],\n",
       "       [7.90327814, 7.66924016, 8.64646062, 7.87762156, 8.25701083,\n",
       "        7.55578925, 8.37343933, 6.7904092 , 8.55797582, 7.93093698,\n",
       "        8.00963594, 7.93138112,        nan,        nan,        nan,\n",
       "               nan,        nan,        nan,        nan,        nan],\n",
       "       [7.37792732, 8.24324184, 8.27994873, 7.35227075, 7.73166001,\n",
       "        7.03043843, 8.00692744, 6.26505839, 8.19146393, 7.40558617,\n",
       "        7.48428513, 7.40603031, 8.05830294,        nan,        nan,\n",
       "               nan,        nan,        nan,        nan,        nan],\n",
       "       [7.90327814, 7.66924016, 8.64646062, 7.87762156, 8.25701083,\n",
       "        7.55578925, 8.37343933, 6.7904092 , 8.55797582, 7.93093698,\n",
       "        8.00963594, 7.93138112, 8.42481483, 7.99236148,        nan,\n",
       "               nan,        nan,        nan,        nan,        nan],\n",
       "       [7.51630077, 7.63404037, 8.25246135, 7.4906442 , 7.87003346,\n",
       "        7.16881188, 7.97944006, 6.40343184, 8.16397654, 7.54395962,\n",
       "        7.62265857, 7.54440376, 8.03081556, 7.60538411, 7.50657867,\n",
       "               nan,        nan,        nan,        nan,        nan],\n",
       "       [7.42503917, 7.19032972, 8.2664014 , 7.39938259, 7.77877186,\n",
       "        7.07755028, 7.99338011, 6.31217023, 8.1779166 , 7.45269801,\n",
       "        7.53139697, 7.45314215, 8.04475561, 7.51412251, 7.41531707,\n",
       "        8.03371598,        nan,        nan,        nan,        nan],\n",
       "       [8.29449291, 8.26287307, 8.29957996, 8.26883634, 8.6482256 ,\n",
       "        7.94700402, 8.02655867, 7.18162398, 8.21109516, 8.32215176,\n",
       "        8.40085072, 8.3225959 , 8.07793417, 8.38357625, 8.28477082,\n",
       "        8.06689453, 8.03157481,        nan,        nan,        nan],\n",
       "       [8.32552938, 8.29390954, 8.33061643, 8.29987281, 8.67926207,\n",
       "        7.97804049, 8.05759514, 7.21266045, 8.24213163, 8.35318823,\n",
       "        8.43188719, 8.35363237, 8.10897064, 8.41461272, 8.31580729,\n",
       "        8.097931  , 8.06261128, 8.43186018,        nan,        nan],\n",
       "       [8.24382522, 8.21220538, 7.1939767 , 8.21816864, 8.59755791,\n",
       "        7.89633633, 7.97589097, 7.13095628, 8.16042746, 8.27148406,\n",
       "        8.35018302, 8.2719282 , 5.04782289, 8.33290856, 8.23410312,\n",
       "        8.01622684, 7.98090711, 8.35015601, 8.15387686,        nan]])"
      ]
     },
     "execution_count": 267,
     "metadata": {},
     "output_type": "execute_result"
    }
   ],
   "source": [
    "# join_scores = [score_join(data[i], data[i+1]) for i in range(0, len(data)-1)]\n",
    "join_scores = calc_all_scores(data[:20], score_join_ngram)\n",
    "join_scores"
   ]
  },
  {
   "cell_type": "code",
   "execution_count": 280,
   "id": "a6fc1235-e696-40e2-84ef-f5b6bc13179f",
   "metadata": {},
   "outputs": [],
   "source": [
    "def get_top_scores(join_scores, thisdata, asc=True, n=5):\n",
    "    flattened = join_scores.flatten()\n",
    "    if asc:\n",
    "        sorted_indices = np.argsort(flattened)\n",
    "    else:\n",
    "        sorted_indices = np.argsort(-flattened)\n",
    "    indices_2d = np.unravel_index(sorted_indices, join_scores.shape)\n",
    "    sorted_indices_list = list(zip(indices_2d[0], indices_2d[1]))\n",
    "    \n",
    "    for i, val in enumerate(sorted_indices_list[0:n]):\n",
    "        print('indices:', val)\n",
    "        print('score:', join_scores[val[0],val[1]])\n",
    "        print('>>>', ' '.join(thisdata[val[0]]), '\\n>>>>', ' '.join(thisdata[val[1]]), '\\n')\n",
    "\n",
    "    return sorted_indices_list"
   ]
  },
  {
   "cell_type": "code",
   "execution_count": 285,
   "id": "0e6552c7-dbc1-475f-ba37-ee8c67c48dcb",
   "metadata": {},
   "outputs": [
    {
     "name": "stdout",
     "output_type": "stream",
     "text": [
      "indices: (0, 2)\n",
      "score: 10.0\n",
      ">>> a \n",
      ">>>> a a \n",
      "\n",
      "indices: (1, 3)\n",
      "score: 10.0\n",
      ">>> b \n",
      ">>>> b b \n",
      "\n",
      "indices: (0, 1)\n",
      "score: 1.0\n",
      ">>> a \n",
      ">>>> b \n",
      "\n",
      "indices: (0, 3)\n",
      "score: 0.0\n",
      ">>> a \n",
      ">>>> b b \n",
      "\n",
      "indices: (1, 2)\n",
      "score: 0.0\n",
      ">>> b \n",
      ">>>> a a \n",
      "\n",
      "indices: (2, 3)\n",
      "score: 0.0\n",
      ">>> a a \n",
      ">>>> b b \n",
      "\n",
      "indices: (0, 0)\n",
      "score: nan\n",
      ">>> a \n",
      ">>>> a \n",
      "\n",
      "indices: (1, 0)\n",
      "score: nan\n",
      ">>> b \n",
      ">>>> a \n",
      "\n"
     ]
    }
   ],
   "source": [
    "testdata = ['a', 'b', 'aa', 'bb']\n",
    "testscores = np.array([[np.nan, 1, 10, 0], [np.nan, np.nan, 0, 10], [np.nan, np.nan, np.nan, 0], [np.nan, np.nan, np.nan, np.nan]])\n",
    "x = get_top_scores(testscores, testdata, asc=False, n=8)"
   ]
  },
  {
   "cell_type": "code",
   "execution_count": 286,
   "id": "979c481e-f3a8-4565-81e4-1694256432c5",
   "metadata": {},
   "outputs": [
    {
     "name": "stdout",
     "output_type": "stream",
     "text": [
      "indices: (19, 12)\n",
      "score: 5.047822885747899\n",
      ">>> i dont know kirkegaard but i can give you some poetry in derek walcotts love after love he implores me to love myself you will love again the stranger who was your self what stranger i have become so worried at the edge of the sea \n",
      ">>>> for long stretches of time i accept having to wait for the winds of chance to determine my fate i feel unrushed but then it descends on me the panic of uncertainty the fear of words like “never” i try to avoid catastrophic thinking but how to avoid my most central tendencies perhaps avoidance is the wrong way to view my worries you dont break habits you replace them but i fear replacing worry with hope \n",
      "\n",
      "indices: (13, 7)\n",
      "score: 6.265058387215162\n",
      ">>> i can kind of feel my brain wisening up to its anxiety like perhaps i am just feeling sad and the object of the sadness would be something else if i didn’t have this particular anxiety in mind i can feel the lightening my perspective on reality shifts like a long pan in a movie here i am from the left but now here i see myself face on then from the right aspects hidden and revealed the lighting changing my silhouette i am no more one thing than the sea who must change face on a dime whose edges team with only the most robust kinds of life i must be robust to my tides i must remember my changing \n",
      ">>>> i try to avoid catastrophic thinking \n",
      "\n",
      "indices: (16, 7)\n",
      "score: 6.312170232750618\n",
      ">>> secretly i wonder if his loss of fertility will coincide with my gain i am days away from the middle of my cycle but i know that im playing a game of chance this cycle i am using test strips capturing a tablespoon of urine each afternoon and watching it draw purple lines on a thin strip of paper so far the correct hormone surge has eluded me but the time is not quite right yet \n",
      ">>>> i try to avoid catastrophic thinking \n",
      "\n",
      "indices: (15, 7)\n",
      "score: 6.403431835863695\n",
      ">>> we get our dog neutered he comes home whimpering in the back of the car then struggles to lie down in the bedroom his back leg twitching his head drooping with the cone he is unable to push his head into my stomach like he normally does in the morning when hes just woken up instead he stands sadly still tail down eventually he curls up the best he can we take turns laying down next to him while he sleeps in fits we were not sure that we should neuter him but we decided to do it reasons reasons fertility is not his future \n",
      ">>>> i try to avoid catastrophic thinking \n",
      "\n",
      "indices: (12, 7)\n",
      "score: 6.7904092030297525\n",
      ">>> for long stretches of time i accept having to wait for the winds of chance to determine my fate i feel unrushed but then it descends on me the panic of uncertainty the fear of words like “never” i try to avoid catastrophic thinking but how to avoid my most central tendencies perhaps avoidance is the wrong way to view my worries you dont break habits you replace them but i fear replacing worry with hope \n",
      ">>>> i try to avoid catastrophic thinking \n",
      "\n"
     ]
    }
   ],
   "source": [
    "x = get_top_scores(join_scores, data)"
   ]
  },
  {
   "cell_type": "markdown",
   "id": "da751d8b-3dc7-4198-81f1-ad86e87d08fe",
   "metadata": {},
   "source": [
    "# Second attempt: edit distance\n",
    "\n",
    "NLTK [Levenshtein edit distance](https://www.nltk.org/api/nltk.metrics.distance.html#nltk.metrics.distance.edit_distance_align) documentation. Edit distance is being calculated at the character level."
   ]
  },
  {
   "cell_type": "code",
   "execution_count": 287,
   "id": "bdbbb5f8-26a7-4bca-b5eb-6a40115597ba",
   "metadata": {},
   "outputs": [
    {
     "data": {
      "text/plain": [
       "(2, 8, 6)"
      ]
     },
     "execution_count": 287,
     "metadata": {},
     "output_type": "execute_result"
    }
   ],
   "source": [
    "from nltk.metrics.distance import edit_distance\n",
    "\n",
    "# testing\n",
    "\n",
    "dog = \"who is the dog here?\"\n",
    "\n",
    "edit_distance('test', 'task'), edit_distance(dog, \"whose dog is here?\"), edit_distance(dog, \"who is the cat here?\", substitution_cost=5)"
   ]
  },
  {
   "cell_type": "code",
   "execution_count": 289,
   "id": "b45dfe5a-87f6-4bf4-a1c4-d5f515e5a6a5",
   "metadata": {},
   "outputs": [
    {
     "data": {
      "text/plain": [
       "('appointment and loss', 'to push away disappo', 19)"
      ]
     },
     "execution_count": 289,
     "metadata": {},
     "output_type": "execute_result"
    }
   ],
   "source": [
    "def score_join_edit(a, b, n=20):\n",
    "    \"\"\"a and b should be 'poems' from the dataset, where each one is a list of words\"\"\"\n",
    "    return edit_distance(' '.join(a)[-n:], ' '.join(b)[:n])\n",
    "\n",
    "' '.join(data[0])[-20:],' '.join(data[1])[:20], score_join(data[0], data[1])"
   ]
  },
  {
   "cell_type": "code",
   "execution_count": 290,
   "id": "790119a6-0f33-44a3-9242-0058e1065ae9",
   "metadata": {},
   "outputs": [],
   "source": [
    "join_scores = calc_all_scores(data, score_join_edit)"
   ]
  },
  {
   "cell_type": "code",
   "execution_count": 294,
   "id": "d1382f91-8812-438b-ae54-e73d7c405d3f",
   "metadata": {},
   "outputs": [
    {
     "name": "stdout",
     "output_type": "stream",
     "text": [
      "indices: (96, 58)\n",
      "score: 9.0\n",
      ">>> i am on the verge of tears the edge of crying i look over the precipice and it is no good out there id like to stay here where the emotions live behind the eyes where im still able to walk to work and make myself dinner i am overflowing with what with a lack of breath with a fear of the future with a desire to stay home with a hope that the people close to me can hold me right with a weight that bears down so hard on my ankles they swell at the elastic of my socks words should contain this much words should be on the verge should look out over the precipice should want so much more than they have to give the best books end just after the words do they hang around in the room with you swiveled and swirling that amorphous ghost they have birthed not ready not quite yet to leave \n",
      ">>>> i stare at the leaves which skirt the tree and look up at those yet to fall the backside of each leaf being a pale reflection colors are muted but still its their range the set of hues in infinite arrangement the palette that comes back every year the leaves are halffallen the season is halfhere i am halfway through a journey which is just a beginning \n",
      "\n",
      "indices: (139, 83)\n",
      "score: 9.0\n",
      ">>> i find you later when the monsters are out and i look down the road with bare trees and houses that i cannot afford i find you in the holes of my brothers breadhe talks about the crumb hes proud of the crumb and the crustwhich aerate the dough and speckle the toast i find you in the steam coming off the pot of pasta which textures the air and billows and frosts the wooden cabinet behind i find you in the rug which circles my dog and frames him as he sleeps in the middle of the day i find you hushed and crushed and blushing someone sent us baby swaddles someone sent us a book inside the dogs are learning not to fight and i find you in their aggressive whines as they battle for the right to the bone \n",
      ">>>> i write to the sound of others writing we sit in silence and i feel forced to find some words for the page because i have no where to go and no one else gets up and the light outside has up and left us in here it is lamplight and speculation some promise that words in a very particular arrangement are worth our time and consideration \n",
      "\n",
      "indices: (128, 56)\n",
      "score: 9.0\n",
      ">>> i cant beat the words out of me before the moment something exists it burns there are things you can do preparations exercises hopes but sometimes the baby comes out upside down there was nothing you could do backwards words turn to snow crystalline yes and filled with holes the kind of creation that melts in your hand you cant hold onto this \n",
      ">>>> i want to labor this child out of me a perverse desire to suffer just like all the people before me i just want to know what its like even if i expect to not like it or perhaps i want to prove that i am strong in some way that i doubt or maybe i just sadistic or maybe i want to labor everything out of me refuse anything that could mollify the pain of creation i am worried but not too worried because above the worry is curiosity and if only everything that caused me pain could also evoke wonder \n",
      "\n",
      "indices: (17, 3)\n",
      "score: 10.0\n",
      ">>> i am sorry i do not evoke kirkegaard and some literary lineage of worry instead i invite gauss and his ideas about the normal distribution and standard deviations and medians i know that not today does not mean never still i seem to become hyper sensitive to the present when for once it might help to look ahead \n",
      ">>>> i pause to look carefully at the book cover i am obsessed with the way books feel how they look their aspect ratio the texture of the paper if i put my nose close i can see the dot matrix of the printed artwork it’s not grey it’s white with a multitude of black dots the blue is more difficult to parse blue and purple and white \n",
      "\n",
      "indices: (88, 18)\n",
      "score: 10.0\n",
      ">>> the dog looks like a rug and pounces on his toy as if it might get away growls with it in his mouth maybe everything im looking for is staying very still and i just have to notice it when i pause i want to stay that way opposite of the puppy who will spin and spin in excitement and in the patches of stillness seems only to recoil and get ready to set himself back in motion am i a spring also potential energy bound up within me vibrating with what could occur except really i feel energy seeping into the couch my limbs lowering to their lowest point the dog now chews on the bone with gnawing scratchy gusto you can tell hes overeager we are the poles and in the middle some kind of balance that has left me \n",
      ">>>> no thats a lie its my fear of whats ahead that plagues me s and i sit on the floor and i try diagram out my anxiety he makes a comment about probability and i tell him hes wrong i explain that my chances each month are the same the prior knowledge does not in fact change anything priorsa technical term in bayesian statisticslegitimize the hope that the past can tell us something about the future in this case i suggest that every unsuccessful month may in fact indicate a more doubtful future i havent seen this modeled in any scientific paper ive found but to me the math makes sense every month that does not succeed means your chances of never succeeding are just a little bit higher because a long string of bad months are a prior for never finding success but i know that i must simply wait for the tide to come in and go out and just sit at the edge of the sea for as long as it takes \n",
      "\n"
     ]
    }
   ],
   "source": [
    "x = get_top_scores(join_scores, data, asc=True)"
   ]
  },
  {
   "cell_type": "markdown",
   "id": "18118712-c959-416c-87e0-b60e9864f087",
   "metadata": {},
   "source": [
    "# Third attempt: word overlap\n",
    "\n",
    "Just use union function of sets."
   ]
  },
  {
   "cell_type": "code",
   "execution_count": 295,
   "id": "11fe8ba3-62a8-4288-bc61-e8c1502b2737",
   "metadata": {},
   "outputs": [
    {
     "data": {
      "text/plain": [
       "('both with filled i loss know and will disappointment be',\n",
       " 'push “worst” to away prepare i the for disappointment',\n",
       " 'i disappointment',\n",
       " 2)"
      ]
     },
     "execution_count": 295,
     "metadata": {},
     "output_type": "execute_result"
    }
   ],
   "source": [
    "n = 10\n",
    "\n",
    "x = set(data[0][-n:])\n",
    "y = set(data[1][:n])\n",
    "' '.join(x), ' '.join(y), ' '.join(x.intersection(y)), len(x.intersection(y))"
   ]
  },
  {
   "cell_type": "code",
   "execution_count": 296,
   "id": "20617523-3c01-44b5-8b33-f410ecc39ef4",
   "metadata": {},
   "outputs": [],
   "source": [
    "def score_join_overlap(a, b, n=10):\n",
    "    \"\"\"a and b should be 'poems' from the dataset, where each one is a list of words\"\"\"\n",
    "    x = set(a[-n:])\n",
    "    y = set(b[:n])\n",
    "    return len(x.intersection(y))\n",
    "\n",
    "# join_scores = [score_join(data[i], data[i+1]) for i in range(0, len(data)-1)]"
   ]
  },
  {
   "cell_type": "code",
   "execution_count": 298,
   "id": "8d67acf2-b2d4-4340-9370-89d8f49fa450",
   "metadata": {},
   "outputs": [],
   "source": [
    "join_scores = calc_all_scores(data, score_join_overlap)"
   ]
  },
  {
   "cell_type": "code",
   "execution_count": 299,
   "id": "e5c755ce-49a5-468f-aeef-ada97657d914",
   "metadata": {},
   "outputs": [
    {
     "name": "stdout",
     "output_type": "stream",
     "text": [
      "indices: (49, 24)\n",
      "score: 0.0\n",
      ">>> i remember reading ann lammot talking about the day her book is released you expect something to happen she writes but very little does that moment when the book turns into something that anyone can read that moment you think it becomes real is a small wave that lulls onto the shore and then retracts leaving the bubbling of air from the mollusks and crabs this is not what ive been told of birthing a human instead the moment when a child goes from something within you to something without is i am told momentous still i suspect that mostly we are made by the soft waves \n",
      ">>>> it does not feel like there is anything inside me that is alive no more alive than the rest of me my lungs and heart and liver all living within i am up all night vomiting and remember that \n",
      "\n",
      "indices: (112, 36)\n",
      "score: 0.0\n",
      ">>> i am breech born baby backwards tending to this head i can feel just below my ribs at my touch he may shift around little bird inside me unsure how to fly he wont turn head down instead kicks his bird wings into my pelvis he has time but time shakes around slowly sinks will eventually go dry here is my first test what i have created slides away from my controlling mind i conceive and then the conception grows seed into sprout into natures first green and suddenly the sun takes over and the weather does its chaotic work and genes unfold into a great expanding mess of creation \n",
      ">>>> my baby is in breech this fine i am at 20 weeks the baby has many months to turn head down presenting himself ready for the great departure and there is no shortage of advice about how to spin a baby how to open the pelvis how to situate the world such that change will occur but my life has never been cajoled into specific shapes these words will not go where i want them i ache for peace but no amount of shifting of my hips will cure me \n",
      "\n",
      "indices: (112, 35)\n",
      "score: 0.0\n",
      ">>> i am breech born baby backwards tending to this head i can feel just below my ribs at my touch he may shift around little bird inside me unsure how to fly he wont turn head down instead kicks his bird wings into my pelvis he has time but time shakes around slowly sinks will eventually go dry here is my first test what i have created slides away from my controlling mind i conceive and then the conception grows seed into sprout into natures first green and suddenly the sun takes over and the weather does its chaotic work and genes unfold into a great expanding mess of creation \n",
      ">>>> there is no reason to enjoy agua viva in fact i cannot read more than one or two pages at once i read the middle portion of it while in quarantine in a hotel during covid i had only time but the book does not invite enrapture what does it mean to create something that pushes against you did clarice lispector want me to lose myself in her words or did she expect that we would tussle that she would fight against my attention i have always found her work calls out like a siren beautiful yes but i know i should turn away \n",
      "\n",
      "indices: (112, 34)\n",
      "score: 0.0\n",
      ">>> i am breech born baby backwards tending to this head i can feel just below my ribs at my touch he may shift around little bird inside me unsure how to fly he wont turn head down instead kicks his bird wings into my pelvis he has time but time shakes around slowly sinks will eventually go dry here is my first test what i have created slides away from my controlling mind i conceive and then the conception grows seed into sprout into natures first green and suddenly the sun takes over and the weather does its chaotic work and genes unfold into a great expanding mess of creation \n",
      ">>>> i am no single thing though the words remain static and harshly angular resisting my change clarice lispector attempts to pin down the present moment aches against her inability to convert the now and the this and the here into blackblue ink to turn her thoughts into scratches that can inhabit my mind she strives against herself against me as her reader she strives into her failing but reading her again i am less sure maybe she writes like me simply about the inability to cast any one thing into stone these words shift beneath me or rather i am unsteady on them \n",
      "\n",
      "indices: (112, 29)\n",
      "score: 0.0\n",
      ">>> i am breech born baby backwards tending to this head i can feel just below my ribs at my touch he may shift around little bird inside me unsure how to fly he wont turn head down instead kicks his bird wings into my pelvis he has time but time shakes around slowly sinks will eventually go dry here is my first test what i have created slides away from my controlling mind i conceive and then the conception grows seed into sprout into natures first green and suddenly the sun takes over and the weather does its chaotic work and genes unfold into a great expanding mess of creation \n",
      ">>>> the strange shifting motions within me could be anything gas organ movement whatever it is that creates the flutter of wings in moments of fear or joy or the soft space in between which s says can be manipulated ie one can change anxiety into excitement simply in the mind but there is the obvious interpretation that thing within me is beginning to move in ways apparent to me the uncertainty about the origins of this movement seem undiscussed when asked do you feel it moving yet the answer is always sloughed off into another question about what it means to know when something you are waiting for has truly arrived \n",
      "\n"
     ]
    }
   ],
   "source": [
    "x = get_top_scores(join_scores, data, asc=True)"
   ]
  },
  {
   "cell_type": "code",
   "execution_count": null,
   "id": "d8846101-20b1-43cb-834a-9412ad84e6f7",
   "metadata": {},
   "outputs": [],
   "source": []
  }
 ],
 "metadata": {
  "kernelspec": {
   "display_name": "Python 3 (ipykernel)",
   "language": "python",
   "name": "python3"
  },
  "language_info": {
   "codemirror_mode": {
    "name": "ipython",
    "version": 3
   },
   "file_extension": ".py",
   "mimetype": "text/x-python",
   "name": "python",
   "nbconvert_exporter": "python",
   "pygments_lexer": "ipython3",
   "version": "3.12.3"
  }
 },
 "nbformat": 4,
 "nbformat_minor": 5
}
